{
 "cells": [
  {
   "cell_type": "code",
   "execution_count": 8,
   "metadata": {},
   "outputs": [],
   "source": [
    "import os\n",
    "from transformers import AutoModelForSeq2SeqLM, AutoTokenizer\n",
    "from langdetect import detect"
   ]
  },
  {
   "cell_type": "code",
   "execution_count": 12,
   "metadata": {},
   "outputs": [
    {
     "name": "stdout",
     "output_type": "stream",
     "text": [
      "/Users/macbook/Projects/detect_image_product/app\n"
     ]
    }
   ],
   "source": [
    "HOME = os.getcwd()\n",
    "while os.path.basename(HOME) != \"app\":\n",
    "\tHOME = os.path.dirname(HOME)\n",
    "print(HOME)"
   ]
  },
  {
   "cell_type": "code",
   "execution_count": 18,
   "metadata": {},
   "outputs": [],
   "source": [
    "MODELS_FOLDER = os.path.join(HOME, \"models\")\n",
    "os.makedirs(MODELS_FOLDER, exist_ok=True)\n",
    "MODEL_NAME = \"facebook/nllb-200-distilled-600M\"\n",
    "MODEL_FOLDER = os.path.join(MODELS_FOLDER, \"nllb200_model\")"
   ]
  },
  {
   "cell_type": "code",
   "execution_count": 19,
   "metadata": {},
   "outputs": [
    {
     "name": "stdout",
     "output_type": "stream",
     "text": [
      "Dowloading model facebook/nllb-200-distilled-600M ...\n"
     ]
    },
    {
     "name": "stderr",
     "output_type": "stream",
     "text": [
      "/Users/macbook/Projects/detect_image_product/venv/lib/python3.10/site-packages/transformers/modeling_utils.py:3353: UserWarning: Moving the following attributes in the config to the generation config: {'max_length': 200}. You are seeing this warning because you've set generation parameters in the model config, as opposed to in the generation config.\n",
      "  warnings.warn(\n"
     ]
    },
    {
     "name": "stdout",
     "output_type": "stream",
     "text": [
      "Download successful!\n"
     ]
    }
   ],
   "source": [
    "if not os.path.exists(MODEL_FOLDER):\n",
    "\tprint(f\"Dowloading model {MODEL_NAME} ...\")\n",
    "\t\n",
    "\ttokenizer = AutoTokenizer.from_pretrained(MODEL_NAME)\n",
    "\tmodel = AutoModelForSeq2SeqLM.from_pretrained(MODEL_NAME)\n",
    "\n",
    "\ttokenizer.save_pretrained(MODEL_FOLDER)\n",
    "\tmodel.save_pretrained(MODEL_FOLDER)\n",
    "\n",
    "\tprint(f\"Download successful!\")\n",
    "else:\n",
    "\tprint(f\"Model existed !\")"
   ]
  },
  {
   "cell_type": "code",
   "execution_count": null,
   "metadata": {},
   "outputs": [
    {
     "name": "stdout",
     "output_type": "stream",
     "text": [
      "Phát hiện ngôn ngữ: vi -> vie_Latn\n",
      "Gốc: Kính mắt chống chói\n",
      "Dịch: Anti-glare glasses\n",
      "\n",
      "Phát hiện ngôn ngữ: fr -> fra_Latn\n",
      "Gốc: Bonjour, comment ça va ?\n",
      "Dịch: Hey, how you doing?\n",
      "\n",
      "Phát hiện ngôn ngữ: zh-cn -> vie_Latn\n",
      "Gốc: 你好，你好吗？\n",
      "Dịch: You are good, you are good?\n",
      "\n"
     ]
    }
   ],
   "source": [
    "from transformers import AutoModelForSeq2SeqLM, AutoTokenizer\n",
    "from langdetect import detect\n",
    "\n",
    "SUPPORTED_LANGS = {\n",
    "\t\"vi\": \"vie_Latn\",\n",
    "\t\"en\": \"eng_Latn\",\n",
    "\t\"fr\": \"fra_Latn\",\n",
    "\t\"de\": \"deu_Latn\",\n",
    "\t\"zh\": \"zho_Hans\",\n",
    "\t\"ja\": \"jpn_Jpan\",\n",
    "}\n",
    "\n",
    "LOCAL_MODEL_PATH = os.path.join(MODELS_FOLDER, \"nllb200_model\")\n",
    "tokenizer = AutoTokenizer.from_pretrained(LOCAL_MODEL_PATH)\n",
    "model = AutoModelForSeq2SeqLM.from_pretrained(LOCAL_MODEL_PATH)\n",
    "\n",
    "def translate(text, tgt_lang=\"eng_Latn\"):\n",
    "\tdetected_lang = detect(text)\n",
    "\tsrc_lang = SUPPORTED_LANGS.get(detected_lang, \"vie_Latn\")\n",
    "\n",
    "\tprint(f\"Phát hiện ngôn ngữ: {detected_lang} -> {src_lang}\")\n",
    "\n",
    "\tinputs = tokenizer(text, return_tensors=\"pt\", padding=True, truncation=True)\n",
    "\tinputs[\"input_ids\"][:, 0] = tokenizer.convert_tokens_to_ids([src_lang])[0] \n",
    "\toutput = model.generate(**inputs, forced_bos_token_id=tokenizer.convert_tokens_to_ids([tgt_lang])[0])\n",
    "\t\n",
    "\treturn tokenizer.decode(output[0], skip_special_tokens=True)\n",
    "\n",
    "texts = [\n",
    "\t\"Kính mắt chống chói\",\n",
    "\t\"Bonjour, comment ça va ?\",\n",
    "\t\"你好，你好吗？\",\n",
    "]\n",
    "\n",
    "for text in texts:\n",
    "\ttranslated_text = translate(text)\n",
    "\tprint(f\"Gốc: {text}\\nDịch: {translated_text}\\n\")"
   ]
  }
 ],
 "metadata": {
  "kernelspec": {
   "display_name": "venv",
   "language": "python",
   "name": "python3"
  },
  "language_info": {
   "codemirror_mode": {
    "name": "ipython",
    "version": 3
   },
   "file_extension": ".py",
   "mimetype": "text/x-python",
   "name": "python",
   "nbconvert_exporter": "python",
   "pygments_lexer": "ipython3",
   "version": "3.10.12"
  }
 },
 "nbformat": 4,
 "nbformat_minor": 2
}
